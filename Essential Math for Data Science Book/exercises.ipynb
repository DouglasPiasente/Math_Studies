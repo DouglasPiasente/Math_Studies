{
 "cells": [
  {
   "cell_type": "code",
   "execution_count": 8,
   "metadata": {},
   "outputs": [],
   "source": [
    "import statistics as stat\n",
    "from scipy.stats import norm"
   ]
  },
  {
   "cell_type": "markdown",
   "metadata": {},
   "source": [
    "### Exercises 3"
   ]
  },
  {
   "cell_type": "markdown",
   "metadata": {},
   "source": [
    "1- You bought a spool of 1.75 mm filament for your 3D printer. You want to measure how close the filament diameter really is to 1.75 mm. You use a caliper tool and sample the diameter five times on the spool:\n",
    "\n",
    "1.78, 1.75, 1.72, 1.74, 1.77\n",
    "\n",
    "Calculate the mean and standard deviation for this set of values."
   ]
  },
  {
   "cell_type": "code",
   "execution_count": 7,
   "metadata": {},
   "outputs": [
    {
     "data": {
      "text/plain": [
       "(1.752, 0.02135415650406264)"
      ]
     },
     "execution_count": 7,
     "metadata": {},
     "output_type": "execute_result"
    }
   ],
   "source": [
    "spool = [1.78, 1.75, 1.72, 1.74, 1.77]\n",
    "\n",
    "stat.mean(spool), stat.pstdev(spool)"
   ]
  },
  {
   "cell_type": "markdown",
   "metadata": {},
   "source": [
    "2- A manufacturer says the Z-Phone smart phone has a mean consumer life of 42 months with a standard deviation of 8 months. Assuming a normal distribution, what is the probability a given random Z-Phone will last between 20 and 30 months?"
   ]
  },
  {
   "cell_type": "code",
   "execution_count": 13,
   "metadata": {},
   "outputs": [
    {
     "data": {
      "text/plain": [
       "0.0638274380338035"
      ]
     },
     "execution_count": 13,
     "metadata": {},
     "output_type": "execute_result"
    }
   ],
   "source": [
    "mean = 42\n",
    "std_dev = 8\n",
    "\n",
    "x = norm.cdf(30, mean, std_dev) - norm.cdf(20, mean, std_dev)\n",
    "\n",
    "x"
   ]
  },
  {
   "cell_type": "markdown",
   "metadata": {},
   "source": [
    "3- I am skeptical that my 3D printer filament is not 1.75 mm in average diameter as advertised. I sampled 34 measurements with my tool. The sample mean is 1.715588 and the sample standard deviation is 0.029252."
   ]
  },
  {
   "cell_type": "code",
   "execution_count": 18,
   "metadata": {},
   "outputs": [
    {
     "data": {
      "text/plain": [
       "(1.6582551335242341, 1.7729208664757656)"
      ]
     },
     "execution_count": 18,
     "metadata": {},
     "output_type": "execute_result"
    }
   ],
   "source": [
    "mean = 1.715588\n",
    "std_dev = 0.029252\n",
    "\n",
    "x1 = norm.ppf(.025, mean, std_dev)\n",
    "x2 = norm.ppf(.975, mean, std_dev)\n",
    "\n",
    "x1,x2 # We dont reject the null hyphotesis\n"
   ]
  },
  {
   "cell_type": "markdown",
   "metadata": {},
   "source": [
    "4- Your marketing department has started a new advertising campaign and wants to know if it affected sales, which in the past averaged $10,345 a day with a standard deviation of $552. The new advertising campaign ran for 45 days and averaged $11,641 in sales.\n",
    "\n",
    "Did the campaign affect sales? Why or why not? (Use a two-tailed test for more reliable significance.)\n",
    "\n"
   ]
  },
  {
   "cell_type": "code",
   "execution_count": 23,
   "metadata": {},
   "outputs": [
    {
     "data": {
      "text/plain": [
       "'The 2.5% and 97.5% values fall into 9263.09988053389 and 11426.90011946611, since the campaign average was $11,641, the p-value is 0.01888333596496139, therefore p-value <= .05 then the campaign worked'"
      ]
     },
     "execution_count": 23,
     "metadata": {},
     "output_type": "execute_result"
    }
   ],
   "source": [
    "mean = 10345\n",
    "std_dev = 552\n",
    "\n",
    "x1 = norm.ppf(.025, mean, std_dev)\n",
    "x2 = norm.ppf(.975, mean, std_dev)\n",
    "\n",
    "p = 1.0 - norm.cdf(11641, mean, std_dev)\n",
    "\n",
    "p_value = p*2\n",
    "\n",
    "f'The 2.5% and 97.5% values fall into {x1} and {x2}, since the campaign average was $11,641, the p-value is {p_value}, therefore p-value <= .05 then the campaign worked'"
   ]
  }
 ],
 "metadata": {
  "kernelspec": {
   "display_name": "Python 3",
   "language": "python",
   "name": "python3"
  },
  "language_info": {
   "codemirror_mode": {
    "name": "ipython",
    "version": 3
   },
   "file_extension": ".py",
   "mimetype": "text/x-python",
   "name": "python",
   "nbconvert_exporter": "python",
   "pygments_lexer": "ipython3",
   "version": "3.11.7"
  }
 },
 "nbformat": 4,
 "nbformat_minor": 2
}
