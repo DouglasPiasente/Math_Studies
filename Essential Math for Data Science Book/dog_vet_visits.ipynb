{
 "cells": [
  {
   "cell_type": "markdown",
   "metadata": {},
   "source": [
    "## Calculating a prediction interval of vet visits for a dog that’s 8.5 years old"
   ]
  },
  {
   "cell_type": "code",
   "execution_count": 1,
   "metadata": {},
   "outputs": [
    {
     "name": "stdout",
     "output_type": "stream",
     "text": [
      "16.462516875955465 25.966483124044537\n"
     ]
    }
   ],
   "source": [
    "import pandas as pd\n",
    "from scipy.stats import t\n",
    "from math import sqrt\n",
    "\n",
    "# Load the data\n",
    "points = list(pd.read_csv('https://bit.ly/2KF29Bd', delimiter=\",\").itertuples())\n",
    "\n",
    "n = len(points)\n",
    "\n",
    "# Linear Regression Line\n",
    "m = 1.939\n",
    "b = 4.733\n",
    "\n",
    "# Calculate Prediction Interval for x = 8.5\n",
    "x_0 = 8.5\n",
    "x_mean = sum(p.x for p in points) / len(points)\n",
    "\n",
    "t_value = t(n - 2).ppf(.975)\n",
    "\n",
    "standard_error = sqrt(sum((p.y - (m * p.x + b)) ** 2 for p in points) / (n - 2))\n",
    "\n",
    "margin_of_error = t_value * standard_error * \\\n",
    "                  sqrt(1 + (1 / n) + (n * (x_0 - x_mean) ** 2) / \\\n",
    "                       (n * sum(p.x ** 2 for p in points) - \\\n",
    "                            sum(p.x for p in points) ** 2))\n",
    "\n",
    "predicted_y = m*x_0 + b\n",
    "\n",
    "# Calculate prediction interval\n",
    "print(predicted_y - margin_of_error, predicted_y + margin_of_error)\n",
    "# 16.462516875955465 25.966483124044537"
   ]
  },
  {
   "cell_type": "markdown",
   "metadata": {},
   "source": [
    "We not only create a prediction based on a linear regression (e.g., a dog that’s 8.5 years old will have 21.2145 vet visits), but we also are actually able to say something much less absolute: there’s a 95% probability an 8.5 year old dog will visit the vet between 16.46 and 25.96 times. Brilliant, right? And it’s a much safer claim because it captures a range rather than a single value, and thus accounts for uncertainty."
   ]
  },
  {
   "cell_type": "markdown",
   "metadata": {},
   "source": [
    "## Doing a train/test split on linear regression"
   ]
  },
  {
   "cell_type": "code",
   "execution_count": 2,
   "metadata": {},
   "outputs": [
    {
     "name": "stdout",
     "output_type": "stream",
     "text": [
      "r^2: 0.993\n"
     ]
    }
   ],
   "source": [
    "import pandas as pd\n",
    "from sklearn.linear_model import LinearRegression\n",
    "from sklearn.model_selection import train_test_split\n",
    "\n",
    "# Load the data\n",
    "df = pd.read_csv('https://bit.ly/3cIH97A', delimiter=\",\")\n",
    "\n",
    "# Extract input variables (all rows, all columns but last column)\n",
    "X = df.values[:, :-1]\n",
    "\n",
    "# Extract output column (all rows, last column)\n",
    "Y = df.values[:, -1]\n",
    "\n",
    "# Separate training and testing data\n",
    "# This leaves a third of the data out for testing\n",
    "X_train, X_test, Y_train, Y_test = train_test_split(X, Y, test_size=1/3)\n",
    "\n",
    "model = LinearRegression()\n",
    "model.fit(X_train, Y_train)\n",
    "result = model.score(X_test, Y_test)\n",
    "print(\"r^2: %.3f\" % result)"
   ]
  },
  {
   "cell_type": "markdown",
   "metadata": {},
   "source": [
    "## A linear regression with two input variables"
   ]
  },
  {
   "cell_type": "code",
   "execution_count": 3,
   "metadata": {},
   "outputs": [
    {
     "name": "stdout",
     "output_type": "stream",
     "text": [
      "Coefficients = [2.00672647 3.00203798]\n",
      "Intercept = 20.109432820035963\n",
      "z = 20.109432820035963 + 2.0067264725128067x + 3.002037976646693y\n"
     ]
    }
   ],
   "source": [
    "import pandas as pd\n",
    "from sklearn.linear_model import LinearRegression\n",
    "\n",
    "# Load the data\n",
    "df = pd.read_csv('https://bit.ly/2X1HWH7', delimiter=\",\")\n",
    "\n",
    "# Extract input variables (all rows, all columns but last column)\n",
    "X = df.values[:, :-1]\n",
    "\n",
    "# Extract output column (all rows, last column)\\\n",
    "Y = df.values[:, -1]\n",
    "\n",
    "# Training\n",
    "fit = LinearRegression().fit(X, Y)\n",
    "\n",
    "# Print coefficients\n",
    "print(\"Coefficients = {0}\".format(fit.coef_))\n",
    "print(\"Intercept = {0}\".format(fit.intercept_))\n",
    "print(\"z = {0} + {1}x + {2}y\".format(fit.intercept_, fit.coef_[0], fit.coef_[1]))"
   ]
  }
 ],
 "metadata": {
  "kernelspec": {
   "display_name": "Python 3",
   "language": "python",
   "name": "python3"
  },
  "language_info": {
   "codemirror_mode": {
    "name": "ipython",
    "version": 3
   },
   "file_extension": ".py",
   "mimetype": "text/x-python",
   "name": "python",
   "nbconvert_exporter": "python",
   "pygments_lexer": "ipython3",
   "version": "3.11.7"
  }
 },
 "nbformat": 4,
 "nbformat_minor": 2
}
